{
 "cells": [
  {
   "cell_type": "code",
   "execution_count": 4,
   "metadata": {},
   "outputs": [],
   "source": [
    "\n",
    "from PIL import Image, ImageChops\n",
    "# open images\n",
    "img1 = Image.open('Hut.jpg')\n",
    "img2 = Image.open('newH.jpg')\n",
    "# resize images\n",
    "img1 = img1.resize((400, 400))\n",
    "img2 = img2.resize((400, 400))\n",
    "# find the difference\n",
    "diff = ImageChops.difference(img1, img2)\n",
    "# threshold the difference image\n",
    "threshold = 50\n",
    "diff = diff.point(lambda x: 0 if x < threshold else 255)\n",
    "# show the difference\n",
    "diff.show()\n",
    "\n"
   ]
  }
 ],
 "metadata": {
  "kernelspec": {
   "display_name": "Python 3",
   "language": "python",
   "name": "python3"
  },
  "language_info": {
   "codemirror_mode": {
    "name": "ipython",
    "version": 3
   },
   "file_extension": ".py",
   "mimetype": "text/x-python",
   "name": "python",
   "nbconvert_exporter": "python",
   "pygments_lexer": "ipython3",
   "version": "3.12.4"
  }
 },
 "nbformat": 4,
 "nbformat_minor": 2
}
